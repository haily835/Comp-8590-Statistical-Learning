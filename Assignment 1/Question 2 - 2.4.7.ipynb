{
 "cells": [
  {
   "cell_type": "markdown",
   "metadata": {},
   "source": [
    "7/ The table below provides a training data set containing six observations, three predictors, and one qualitative response variable."
   ]
  },
  {
   "cell_type": "code",
   "execution_count": 5,
   "metadata": {},
   "outputs": [],
   "source": [
    "import numpy as np\n",
    "\n",
    "obs1 = np.array([0,3,0])\n",
    "obs2 = np.array([2,0,0])\n",
    "obs3 = np.array([0,1,3])\n",
    "obs4 = np.array([0,1,2])\n",
    "obs5 = np.array([-1,0,1])\n",
    "obs6 = np.array([1,1,1])\n",
    "\n",
    "test = np.array([0,0,0])"
   ]
  },
  {
   "cell_type": "markdown",
   "metadata": {},
   "source": [
    "a/ Compute the Euclidean distance between each observation and the test point, X1 = X2 = X3 = 0."
   ]
  },
  {
   "cell_type": "code",
   "execution_count": 7,
   "metadata": {},
   "outputs": [
    {
     "data": {
      "text/plain": [
       "3.0"
      ]
     },
     "execution_count": 7,
     "metadata": {},
     "output_type": "execute_result"
    }
   ],
   "source": [
    "eucl1 = np.linalg.norm(test - obs1)\n",
    "eucl1"
   ]
  },
  {
   "cell_type": "code",
   "execution_count": 8,
   "metadata": {},
   "outputs": [
    {
     "data": {
      "text/plain": [
       "2.0"
      ]
     },
     "execution_count": 8,
     "metadata": {},
     "output_type": "execute_result"
    }
   ],
   "source": [
    "eucl2 = np.linalg.norm(test - obs2)\n",
    "eucl2"
   ]
  },
  {
   "cell_type": "code",
   "execution_count": 9,
   "metadata": {},
   "outputs": [
    {
     "data": {
      "text/plain": [
       "3.1622776601683795"
      ]
     },
     "execution_count": 9,
     "metadata": {},
     "output_type": "execute_result"
    }
   ],
   "source": [
    "eucl3 = np.linalg.norm(test - obs3)\n",
    "eucl3"
   ]
  },
  {
   "cell_type": "code",
   "execution_count": 10,
   "metadata": {},
   "outputs": [
    {
     "data": {
      "text/plain": [
       "2.23606797749979"
      ]
     },
     "execution_count": 10,
     "metadata": {},
     "output_type": "execute_result"
    }
   ],
   "source": [
    "eucl4 = np.linalg.norm(test - obs4)\n",
    "eucl4"
   ]
  },
  {
   "cell_type": "code",
   "execution_count": 11,
   "metadata": {},
   "outputs": [
    {
     "data": {
      "text/plain": [
       "1.4142135623730951"
      ]
     },
     "execution_count": 11,
     "metadata": {},
     "output_type": "execute_result"
    }
   ],
   "source": [
    "eucl5 = np.linalg.norm(test - obs5)\n",
    "eucl5"
   ]
  },
  {
   "cell_type": "code",
   "execution_count": 12,
   "metadata": {},
   "outputs": [
    {
     "data": {
      "text/plain": [
       "1.7320508075688772"
      ]
     },
     "execution_count": 12,
     "metadata": {},
     "output_type": "execute_result"
    }
   ],
   "source": [
    "eucl6 = np.linalg.norm(test - obs6)\n",
    "eucl6"
   ]
  },
  {
   "cell_type": "markdown",
   "metadata": {},
   "source": [
    "b/ What is our prediction with K = 1? Why?\n",
    "\n",
    "For K=1, the test point is Green. Since Observation 5 with the value Y of \"Green\" has the Euclidean distance of 1.414, which is the closest to K value of 1."
   ]
  },
  {
   "cell_type": "markdown",
   "metadata": {},
   "source": [
    "c/ What is our prediction with K = 3? Why?\n",
    "\n",
    "For K=3, the test point could be Red. Since the closest value to K=3 are Observation 2, 5, and 6, where 2 has a Y value of \"Green\", and \"Red\" for both 5 and 6."
   ]
  },
  {
   "cell_type": "markdown",
   "metadata": {},
   "source": [
    "d/ If the Bayes decision boundary in this problem is highly nonlinear, then would we expect the best value for K to be large or small? Why?\n",
    "\n",
    "If the Bayes decision boundary in this problem is highly nonlinear, the Bayes classifier has a low bias by very high variance. This implies that the we can expect the best value for K to be smaller."
   ]
  }
 ],
 "metadata": {
  "kernelspec": {
   "display_name": "Python 3",
   "language": "python",
   "name": "python3"
  },
  "language_info": {
   "codemirror_mode": {
    "name": "ipython",
    "version": 3
   },
   "file_extension": ".py",
   "mimetype": "text/x-python",
   "name": "python",
   "nbconvert_exporter": "python",
   "pygments_lexer": "ipython3",
   "version": "3.12.1"
  }
 },
 "nbformat": 4,
 "nbformat_minor": 2
}
